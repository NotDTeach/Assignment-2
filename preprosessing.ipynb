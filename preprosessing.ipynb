{
 "cells": [
  {
   "cell_type": "code",
   "execution_count": null,
   "id": "3c24e091",
   "metadata": {},
   "outputs": [],
   "source": [
    "import pandas as pd\n",
    "import numpy as np\n",
    "\n",
    "# Load dataset\n",
    "dataset = pd.read_csv('diabetes.csv')\n",
    "\n",
    "# Cek missing values\n",
    "print(dataset.isnull().sum())\n",
    "\n",
    "# Cek outlier\n",
    "Q1 = dataset.quantile(0.25)\n",
    "Q3 = dataset.quantile(0.75)\n",
    "IQR = Q3 - Q1\n",
    "outliers = ((dataset < (Q1 - 1.5 * IQR)) | (dataset > (Q3 + 1.5 * IQR))).sum()\n",
    "print(outliers)\n",
    "\n",
    "# Transformasi data\n",
    "dataset['BMI'] = np.log(dataset['BMI'])\n",
    "\n",
    "# Cek data tidak valid\n",
    "print(dataset[dataset['BloodPressure'] == 0])\n",
    "\n",
    "# Perbaiki data tidak valid\n",
    "dataset['BloodPressure'] = dataset['BloodPressure'].replace(0, dataset['BloodPressure'].mean())\n",
    "\n",
    "# Normalisasi data\n",
    "dataset['Glucose'] = (dataset['Glucose'] - dataset['Glucose'].min()) / (dataset['Glucose'].max() - dataset['Glucose'].min())\n",
    "dataset['BMI'] = (dataset['BMI'] - dataset['BMI'].min()) / (dataset['BMI'].max() - dataset['BMI'].min())\n",
    "\n",
    "# Simpan dataset yang sudah dipreproses ke file CSV\n",
    "dataset.to_csv('diabetes_preprocessed.csv', index=False)\n"
   ]
  },
  {
   "cell_type": "code",
   "execution_count": null,
   "id": "bb16838a",
   "metadata": {},
   "outputs": [],
   "source": []
  }
 ],
 "metadata": {
  "kernelspec": {
   "display_name": "Python 3 (ipykernel)",
   "language": "python",
   "name": "python3"
  },
  "language_info": {
   "codemirror_mode": {
    "name": "ipython",
    "version": 3
   },
   "file_extension": ".py",
   "mimetype": "text/x-python",
   "name": "python",
   "nbconvert_exporter": "python",
   "pygments_lexer": "ipython3",
   "version": "3.11.2"
  }
 },
 "nbformat": 4,
 "nbformat_minor": 5
}
