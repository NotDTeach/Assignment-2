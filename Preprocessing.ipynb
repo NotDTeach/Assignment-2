{
 "cells": [
  {
   "cell_type": "code",
   "execution_count": 1,
   "id": "6fc2bfb7",
   "metadata": {},
   "outputs": [],
   "source": [
    "#import library\n",
    "import numpy as np\n",
    "import pandas as pd\n",
    "import matplotlib.pyplot as plt"
   ]
  },
  {
   "cell_type": "code",
   "execution_count": 2,
   "id": "511f7db8",
   "metadata": {},
   "outputs": [
    {
     "data": {
      "text/html": [
       "<div>\n",
       "<style scoped>\n",
       "    .dataframe tbody tr th:only-of-type {\n",
       "        vertical-align: middle;\n",
       "    }\n",
       "\n",
       "    .dataframe tbody tr th {\n",
       "        vertical-align: top;\n",
       "    }\n",
       "\n",
       "    .dataframe thead th {\n",
       "        text-align: right;\n",
       "    }\n",
       "</style>\n",
       "<table border=\"1\" class=\"dataframe\">\n",
       "  <thead>\n",
       "    <tr style=\"text-align: right;\">\n",
       "      <th></th>\n",
       "      <th>color</th>\n",
       "      <th>director_name</th>\n",
       "      <th>duration</th>\n",
       "      <th>gross</th>\n",
       "      <th>genres</th>\n",
       "      <th>movie_title</th>\n",
       "      <th>title_year</th>\n",
       "      <th>language</th>\n",
       "      <th>country</th>\n",
       "      <th>budget</th>\n",
       "      <th>imdb_score</th>\n",
       "      <th>actors</th>\n",
       "      <th>movie_facebook_likes</th>\n",
       "    </tr>\n",
       "  </thead>\n",
       "  <tbody>\n",
       "    <tr>\n",
       "      <th>0</th>\n",
       "      <td>Color</td>\n",
       "      <td>Martin Scorsese</td>\n",
       "      <td>240</td>\n",
       "      <td>116866727.0</td>\n",
       "      <td>Biography|Comedy|Crime|Drama</td>\n",
       "      <td>The Wolf of Wall Street</td>\n",
       "      <td>2013</td>\n",
       "      <td>English</td>\n",
       "      <td>USA</td>\n",
       "      <td>100000000.0</td>\n",
       "      <td>8.2</td>\n",
       "      <td>Leonardo DiCaprio,Matthew McConaughey,Jon Favreau</td>\n",
       "      <td>138000</td>\n",
       "    </tr>\n",
       "    <tr>\n",
       "      <th>1</th>\n",
       "      <td>Color</td>\n",
       "      <td>Shane Black</td>\n",
       "      <td>195</td>\n",
       "      <td>408992272.0</td>\n",
       "      <td>Action|Adventure|Sci-Fi</td>\n",
       "      <td>Iron Man 3</td>\n",
       "      <td>2013</td>\n",
       "      <td>English</td>\n",
       "      <td>USA</td>\n",
       "      <td>200000000.0</td>\n",
       "      <td>7.2</td>\n",
       "      <td>Robert Downey Jr.,Jon Favreau,Don Cheadle</td>\n",
       "      <td>95000</td>\n",
       "    </tr>\n",
       "    <tr>\n",
       "      <th>2</th>\n",
       "      <td>color</td>\n",
       "      <td>Quentin Tarantino</td>\n",
       "      <td>187</td>\n",
       "      <td>54116191.0</td>\n",
       "      <td>Crime|Drama|Mystery|Thriller|Western</td>\n",
       "      <td>The Hateful Eight</td>\n",
       "      <td>2015</td>\n",
       "      <td>English</td>\n",
       "      <td>USA</td>\n",
       "      <td>44000000.0</td>\n",
       "      <td>7.9</td>\n",
       "      <td>Craig Stark,Jennifer Jason Leigh,Zoë Bell</td>\n",
       "      <td>114000</td>\n",
       "    </tr>\n",
       "    <tr>\n",
       "      <th>3</th>\n",
       "      <td>Color</td>\n",
       "      <td>Kenneth Lonergan</td>\n",
       "      <td>186</td>\n",
       "      <td>46495.0</td>\n",
       "      <td>Drama</td>\n",
       "      <td>Margaret</td>\n",
       "      <td>2011</td>\n",
       "      <td>English</td>\n",
       "      <td>usa</td>\n",
       "      <td>14000000.0</td>\n",
       "      <td>6.5</td>\n",
       "      <td>Matt Damon,Kieran Culkin,John Gallagher Jr.</td>\n",
       "      <td>0</td>\n",
       "    </tr>\n",
       "    <tr>\n",
       "      <th>4</th>\n",
       "      <td>Color</td>\n",
       "      <td>Peter Jackson</td>\n",
       "      <td>186</td>\n",
       "      <td>258355354.0</td>\n",
       "      <td>Adventure|Fantasy</td>\n",
       "      <td>The Hobbit: The Desolation of Smaug</td>\n",
       "      <td>2013</td>\n",
       "      <td>English</td>\n",
       "      <td>USA</td>\n",
       "      <td>225000000.0</td>\n",
       "      <td>7.9</td>\n",
       "      <td>Aidan Turner,Adam Brown,James Nesbitt</td>\n",
       "      <td>83000</td>\n",
       "    </tr>\n",
       "  </tbody>\n",
       "</table>\n",
       "</div>"
      ],
      "text/plain": [
       "    color      director_name  duration        gross  \\\n",
       "0   Color    Martin Scorsese       240  116866727.0   \n",
       "1   Color        Shane Black       195  408992272.0   \n",
       "2  color   Quentin Tarantino       187   54116191.0   \n",
       "3   Color   Kenneth Lonergan       186      46495.0   \n",
       "4   Color      Peter Jackson       186  258355354.0   \n",
       "\n",
       "                                 genres                          movie_title  \\\n",
       "0          Biography|Comedy|Crime|Drama              The Wolf of Wall Street   \n",
       "1               Action|Adventure|Sci-Fi                           Iron Man 3   \n",
       "2  Crime|Drama|Mystery|Thriller|Western                    The Hateful Eight   \n",
       "3                                 Drama                             Margaret   \n",
       "4                     Adventure|Fantasy  The Hobbit: The Desolation of Smaug   \n",
       "\n",
       "   title_year language country       budget  imdb_score  \\\n",
       "0        2013  English     USA  100000000.0         8.2   \n",
       "1        2013  English     USA  200000000.0         7.2   \n",
       "2        2015  English     USA   44000000.0         7.9   \n",
       "3        2011  English     usa   14000000.0         6.5   \n",
       "4        2013  English     USA  225000000.0         7.9   \n",
       "\n",
       "                                              actors  movie_facebook_likes  \n",
       "0  Leonardo DiCaprio,Matthew McConaughey,Jon Favreau                138000  \n",
       "1          Robert Downey Jr.,Jon Favreau,Don Cheadle                 95000  \n",
       "2          Craig Stark,Jennifer Jason Leigh,Zoë Bell                114000  \n",
       "3        Matt Damon,Kieran Culkin,John Gallagher Jr.                     0  \n",
       "4              Aidan Turner,Adam Brown,James Nesbitt                 83000  "
      ]
     },
     "execution_count": 2,
     "metadata": {},
     "output_type": "execute_result"
    }
   ],
   "source": [
    "df = pd.read_csv('movie_sample_dataset.csv', encoding='utf-8')\n",
    "df.head()"
   ]
  },
  {
   "cell_type": "code",
   "execution_count": 3,
   "id": "34f9e238",
   "metadata": {},
   "outputs": [
    {
     "data": {
      "text/html": [
       "<div>\n",
       "<style scoped>\n",
       "    .dataframe tbody tr th:only-of-type {\n",
       "        vertical-align: middle;\n",
       "    }\n",
       "\n",
       "    .dataframe tbody tr th {\n",
       "        vertical-align: top;\n",
       "    }\n",
       "\n",
       "    .dataframe thead th {\n",
       "        text-align: right;\n",
       "    }\n",
       "</style>\n",
       "<table border=\"1\" class=\"dataframe\">\n",
       "  <thead>\n",
       "    <tr style=\"text-align: right;\">\n",
       "      <th></th>\n",
       "      <th>director_name</th>\n",
       "      <th>duration</th>\n",
       "      <th>gross</th>\n",
       "      <th>genres</th>\n",
       "      <th>movie_title</th>\n",
       "      <th>title_year</th>\n",
       "      <th>country</th>\n",
       "      <th>budget</th>\n",
       "      <th>imdb_score</th>\n",
       "      <th>actors</th>\n",
       "      <th>movie_facebook_likes</th>\n",
       "    </tr>\n",
       "  </thead>\n",
       "  <tbody>\n",
       "    <tr>\n",
       "      <th>0</th>\n",
       "      <td>Martin Scorsese</td>\n",
       "      <td>240</td>\n",
       "      <td>116866727.0</td>\n",
       "      <td>Biography|Comedy|Crime|Drama</td>\n",
       "      <td>The Wolf of Wall Street</td>\n",
       "      <td>2013</td>\n",
       "      <td>USA</td>\n",
       "      <td>100000000.0</td>\n",
       "      <td>8.2</td>\n",
       "      <td>Leonardo DiCaprio,Matthew McConaughey,Jon Favreau</td>\n",
       "      <td>138000</td>\n",
       "    </tr>\n",
       "    <tr>\n",
       "      <th>1</th>\n",
       "      <td>Shane Black</td>\n",
       "      <td>195</td>\n",
       "      <td>408992272.0</td>\n",
       "      <td>Action|Adventure|Sci-Fi</td>\n",
       "      <td>Iron Man 3</td>\n",
       "      <td>2013</td>\n",
       "      <td>USA</td>\n",
       "      <td>200000000.0</td>\n",
       "      <td>7.2</td>\n",
       "      <td>Robert Downey Jr.,Jon Favreau,Don Cheadle</td>\n",
       "      <td>95000</td>\n",
       "    </tr>\n",
       "    <tr>\n",
       "      <th>2</th>\n",
       "      <td>Quentin Tarantino</td>\n",
       "      <td>187</td>\n",
       "      <td>54116191.0</td>\n",
       "      <td>Crime|Drama|Mystery|Thriller|Western</td>\n",
       "      <td>The Hateful Eight</td>\n",
       "      <td>2015</td>\n",
       "      <td>USA</td>\n",
       "      <td>44000000.0</td>\n",
       "      <td>7.9</td>\n",
       "      <td>Craig Stark,Jennifer Jason Leigh,Zoë Bell</td>\n",
       "      <td>114000</td>\n",
       "    </tr>\n",
       "    <tr>\n",
       "      <th>3</th>\n",
       "      <td>Kenneth Lonergan</td>\n",
       "      <td>186</td>\n",
       "      <td>46495.0</td>\n",
       "      <td>Drama</td>\n",
       "      <td>Margaret</td>\n",
       "      <td>2011</td>\n",
       "      <td>usa</td>\n",
       "      <td>14000000.0</td>\n",
       "      <td>6.5</td>\n",
       "      <td>Matt Damon,Kieran Culkin,John Gallagher Jr.</td>\n",
       "      <td>0</td>\n",
       "    </tr>\n",
       "    <tr>\n",
       "      <th>4</th>\n",
       "      <td>Peter Jackson</td>\n",
       "      <td>186</td>\n",
       "      <td>258355354.0</td>\n",
       "      <td>Adventure|Fantasy</td>\n",
       "      <td>The Hobbit: The Desolation of Smaug</td>\n",
       "      <td>2013</td>\n",
       "      <td>USA</td>\n",
       "      <td>225000000.0</td>\n",
       "      <td>7.9</td>\n",
       "      <td>Aidan Turner,Adam Brown,James Nesbitt</td>\n",
       "      <td>83000</td>\n",
       "    </tr>\n",
       "  </tbody>\n",
       "</table>\n",
       "</div>"
      ],
      "text/plain": [
       "       director_name  duration        gross  \\\n",
       "0    Martin Scorsese       240  116866727.0   \n",
       "1        Shane Black       195  408992272.0   \n",
       "2  Quentin Tarantino       187   54116191.0   \n",
       "3   Kenneth Lonergan       186      46495.0   \n",
       "4      Peter Jackson       186  258355354.0   \n",
       "\n",
       "                                 genres                          movie_title  \\\n",
       "0          Biography|Comedy|Crime|Drama              The Wolf of Wall Street   \n",
       "1               Action|Adventure|Sci-Fi                           Iron Man 3   \n",
       "2  Crime|Drama|Mystery|Thriller|Western                    The Hateful Eight   \n",
       "3                                 Drama                             Margaret   \n",
       "4                     Adventure|Fantasy  The Hobbit: The Desolation of Smaug   \n",
       "\n",
       "   title_year country       budget  imdb_score  \\\n",
       "0        2013     USA  100000000.0         8.2   \n",
       "1        2013     USA  200000000.0         7.2   \n",
       "2        2015     USA   44000000.0         7.9   \n",
       "3        2011     usa   14000000.0         6.5   \n",
       "4        2013     USA  225000000.0         7.9   \n",
       "\n",
       "                                              actors  movie_facebook_likes  \n",
       "0  Leonardo DiCaprio,Matthew McConaughey,Jon Favreau                138000  \n",
       "1          Robert Downey Jr.,Jon Favreau,Don Cheadle                 95000  \n",
       "2          Craig Stark,Jennifer Jason Leigh,Zoë Bell                114000  \n",
       "3        Matt Damon,Kieran Culkin,John Gallagher Jr.                     0  \n",
       "4              Aidan Turner,Adam Brown,James Nesbitt                 83000  "
      ]
     },
     "execution_count": 3,
     "metadata": {},
     "output_type": "execute_result"
    }
   ],
   "source": [
    "df.drop(['color','language'], axis=1, inplace=True)\n",
    "df.head()"
   ]
  },
  {
   "cell_type": "code",
   "execution_count": 4,
   "id": "0bdae4c2",
   "metadata": {},
   "outputs": [
    {
     "name": "stdout",
     "output_type": "stream",
     "text": [
      "<class 'pandas.core.frame.DataFrame'>\n",
      "RangeIndex: 99 entries, 0 to 98\n",
      "Data columns (total 11 columns):\n",
      " #   Column                Non-Null Count  Dtype  \n",
      "---  ------                --------------  -----  \n",
      " 0   director_name         88 non-null     object \n",
      " 1   duration              99 non-null     int64  \n",
      " 2   gross                 91 non-null     float64\n",
      " 3   genres                98 non-null     object \n",
      " 4   movie_title           99 non-null     object \n",
      " 5   title_year            99 non-null     int64  \n",
      " 6   country               99 non-null     object \n",
      " 7   budget                95 non-null     float64\n",
      " 8   imdb_score            99 non-null     float64\n",
      " 9   actors                99 non-null     object \n",
      " 10  movie_facebook_likes  99 non-null     int64  \n",
      "dtypes: float64(3), int64(3), object(5)\n",
      "memory usage: 8.6+ KB\n"
     ]
    }
   ],
   "source": [
    "df.info()"
   ]
  },
  {
   "cell_type": "code",
   "execution_count": 5,
   "id": "d09f840c",
   "metadata": {},
   "outputs": [
    {
     "data": {
      "text/html": [
       "<div>\n",
       "<style scoped>\n",
       "    .dataframe tbody tr th:only-of-type {\n",
       "        vertical-align: middle;\n",
       "    }\n",
       "\n",
       "    .dataframe tbody tr th {\n",
       "        vertical-align: top;\n",
       "    }\n",
       "\n",
       "    .dataframe thead th {\n",
       "        text-align: right;\n",
       "    }\n",
       "</style>\n",
       "<table border=\"1\" class=\"dataframe\">\n",
       "  <thead>\n",
       "    <tr style=\"text-align: right;\">\n",
       "      <th></th>\n",
       "      <th>director_name</th>\n",
       "      <th>duration</th>\n",
       "      <th>gross</th>\n",
       "      <th>genres</th>\n",
       "      <th>movie_title</th>\n",
       "      <th>title_year</th>\n",
       "      <th>country</th>\n",
       "      <th>budget</th>\n",
       "      <th>imdb_score</th>\n",
       "      <th>actors</th>\n",
       "      <th>movie_facebook_likes</th>\n",
       "    </tr>\n",
       "  </thead>\n",
       "  <tbody>\n",
       "    <tr>\n",
       "      <th>0</th>\n",
       "      <td>False</td>\n",
       "      <td>False</td>\n",
       "      <td>False</td>\n",
       "      <td>False</td>\n",
       "      <td>False</td>\n",
       "      <td>False</td>\n",
       "      <td>False</td>\n",
       "      <td>False</td>\n",
       "      <td>False</td>\n",
       "      <td>False</td>\n",
       "      <td>False</td>\n",
       "    </tr>\n",
       "    <tr>\n",
       "      <th>1</th>\n",
       "      <td>False</td>\n",
       "      <td>False</td>\n",
       "      <td>False</td>\n",
       "      <td>False</td>\n",
       "      <td>False</td>\n",
       "      <td>False</td>\n",
       "      <td>False</td>\n",
       "      <td>False</td>\n",
       "      <td>False</td>\n",
       "      <td>False</td>\n",
       "      <td>False</td>\n",
       "    </tr>\n",
       "    <tr>\n",
       "      <th>2</th>\n",
       "      <td>False</td>\n",
       "      <td>False</td>\n",
       "      <td>False</td>\n",
       "      <td>False</td>\n",
       "      <td>False</td>\n",
       "      <td>False</td>\n",
       "      <td>False</td>\n",
       "      <td>False</td>\n",
       "      <td>False</td>\n",
       "      <td>False</td>\n",
       "      <td>False</td>\n",
       "    </tr>\n",
       "    <tr>\n",
       "      <th>3</th>\n",
       "      <td>False</td>\n",
       "      <td>False</td>\n",
       "      <td>False</td>\n",
       "      <td>False</td>\n",
       "      <td>False</td>\n",
       "      <td>False</td>\n",
       "      <td>False</td>\n",
       "      <td>False</td>\n",
       "      <td>False</td>\n",
       "      <td>False</td>\n",
       "      <td>False</td>\n",
       "    </tr>\n",
       "    <tr>\n",
       "      <th>4</th>\n",
       "      <td>False</td>\n",
       "      <td>False</td>\n",
       "      <td>False</td>\n",
       "      <td>False</td>\n",
       "      <td>False</td>\n",
       "      <td>False</td>\n",
       "      <td>False</td>\n",
       "      <td>False</td>\n",
       "      <td>False</td>\n",
       "      <td>False</td>\n",
       "      <td>False</td>\n",
       "    </tr>\n",
       "    <tr>\n",
       "      <th>...</th>\n",
       "      <td>...</td>\n",
       "      <td>...</td>\n",
       "      <td>...</td>\n",
       "      <td>...</td>\n",
       "      <td>...</td>\n",
       "      <td>...</td>\n",
       "      <td>...</td>\n",
       "      <td>...</td>\n",
       "      <td>...</td>\n",
       "      <td>...</td>\n",
       "      <td>...</td>\n",
       "    </tr>\n",
       "    <tr>\n",
       "      <th>94</th>\n",
       "      <td>False</td>\n",
       "      <td>False</td>\n",
       "      <td>False</td>\n",
       "      <td>False</td>\n",
       "      <td>False</td>\n",
       "      <td>False</td>\n",
       "      <td>False</td>\n",
       "      <td>False</td>\n",
       "      <td>False</td>\n",
       "      <td>False</td>\n",
       "      <td>False</td>\n",
       "    </tr>\n",
       "    <tr>\n",
       "      <th>95</th>\n",
       "      <td>False</td>\n",
       "      <td>False</td>\n",
       "      <td>False</td>\n",
       "      <td>False</td>\n",
       "      <td>False</td>\n",
       "      <td>False</td>\n",
       "      <td>False</td>\n",
       "      <td>True</td>\n",
       "      <td>False</td>\n",
       "      <td>False</td>\n",
       "      <td>False</td>\n",
       "    </tr>\n",
       "    <tr>\n",
       "      <th>96</th>\n",
       "      <td>False</td>\n",
       "      <td>False</td>\n",
       "      <td>False</td>\n",
       "      <td>False</td>\n",
       "      <td>False</td>\n",
       "      <td>False</td>\n",
       "      <td>False</td>\n",
       "      <td>False</td>\n",
       "      <td>False</td>\n",
       "      <td>False</td>\n",
       "      <td>False</td>\n",
       "    </tr>\n",
       "    <tr>\n",
       "      <th>97</th>\n",
       "      <td>False</td>\n",
       "      <td>False</td>\n",
       "      <td>False</td>\n",
       "      <td>False</td>\n",
       "      <td>False</td>\n",
       "      <td>False</td>\n",
       "      <td>False</td>\n",
       "      <td>False</td>\n",
       "      <td>False</td>\n",
       "      <td>False</td>\n",
       "      <td>False</td>\n",
       "    </tr>\n",
       "    <tr>\n",
       "      <th>98</th>\n",
       "      <td>False</td>\n",
       "      <td>False</td>\n",
       "      <td>False</td>\n",
       "      <td>False</td>\n",
       "      <td>False</td>\n",
       "      <td>False</td>\n",
       "      <td>False</td>\n",
       "      <td>False</td>\n",
       "      <td>False</td>\n",
       "      <td>False</td>\n",
       "      <td>False</td>\n",
       "    </tr>\n",
       "  </tbody>\n",
       "</table>\n",
       "<p>99 rows × 11 columns</p>\n",
       "</div>"
      ],
      "text/plain": [
       "    director_name  duration  gross  genres  movie_title  title_year  country  \\\n",
       "0           False     False  False   False        False       False    False   \n",
       "1           False     False  False   False        False       False    False   \n",
       "2           False     False  False   False        False       False    False   \n",
       "3           False     False  False   False        False       False    False   \n",
       "4           False     False  False   False        False       False    False   \n",
       "..            ...       ...    ...     ...          ...         ...      ...   \n",
       "94          False     False  False   False        False       False    False   \n",
       "95          False     False  False   False        False       False    False   \n",
       "96          False     False  False   False        False       False    False   \n",
       "97          False     False  False   False        False       False    False   \n",
       "98          False     False  False   False        False       False    False   \n",
       "\n",
       "    budget  imdb_score  actors  movie_facebook_likes  \n",
       "0    False       False   False                 False  \n",
       "1    False       False   False                 False  \n",
       "2    False       False   False                 False  \n",
       "3    False       False   False                 False  \n",
       "4    False       False   False                 False  \n",
       "..     ...         ...     ...                   ...  \n",
       "94   False       False   False                 False  \n",
       "95    True       False   False                 False  \n",
       "96   False       False   False                 False  \n",
       "97   False       False   False                 False  \n",
       "98   False       False   False                 False  \n",
       "\n",
       "[99 rows x 11 columns]"
      ]
     },
     "execution_count": 5,
     "metadata": {},
     "output_type": "execute_result"
    }
   ],
   "source": [
    "df.isnull()"
   ]
  },
  {
   "cell_type": "code",
   "execution_count": 8,
   "id": "c0222f02",
   "metadata": {},
   "outputs": [
    {
     "data": {
      "text/plain": [
       "director_name           11\n",
       "duration                 0\n",
       "gross                    8\n",
       "genres                   1\n",
       "movie_title              0\n",
       "title_year               0\n",
       "country                  0\n",
       "budget                   4\n",
       "imdb_score               0\n",
       "actors                   0\n",
       "movie_facebook_likes     0\n",
       "dtype: int64"
      ]
     },
     "execution_count": 8,
     "metadata": {},
     "output_type": "execute_result"
    }
   ],
   "source": [
    "df.isnull().sum()"
   ]
  },
  {
   "cell_type": "code",
   "execution_count": 9,
   "id": "e2d595c6",
   "metadata": {},
   "outputs": [
    {
     "data": {
      "text/plain": [
       "24"
      ]
     },
     "execution_count": 9,
     "metadata": {},
     "output_type": "execute_result"
    }
   ],
   "source": [
    "#Total Missing Values pada dataset\n",
    "df.isnull().sum().sum()"
   ]
  },
  {
   "cell_type": "code",
   "execution_count": 10,
   "id": "85325ca6",
   "metadata": {},
   "outputs": [
    {
     "data": {
      "text/plain": [
       "array(['Martin Scorsese', 'Shane Black', 'Quentin Tarantino',\n",
       "       'Kenneth Lonergan', 'Peter Jackson', nan, 'Edward Hall',\n",
       "       'Joss Whedon', 'Tom Tykwer', 'Null', 'Christopher Spencer',\n",
       "       'Christopher Nolan', 'F. Gary Gray', 'Richard Linklater',\n",
       "       'Michael Bay', 'Tom Hooper', 'Kathryn Bigelow', 'Ridley Scott',\n",
       "       'Denis Villeneuve', 'Gnana Rajasekaran', 'Marc Webb', 'Nan',\n",
       "       'Mike Leigh', 'Gore Verbinski', 'David Fincher', 'Bryan Singer',\n",
       "       'Jay Oliva', 'Paul Thomas Anderson', 'Sam Mendes',\n",
       "       'Michael Patrick King', 'Tate Taylor', 'Francis Lawrence',\n",
       "       'Steven Spielberg', 'Guillaume Canet', 'Adam McKay', 'Zack Snyder',\n",
       "       'Baz Luhrmann', 'Timur Bekmambetov', 'Justin Chadwick',\n",
       "       'Oliver Stone', 'David Dobkin', 'Ryan Murphy', 'James Wan',\n",
       "       'Derek Cianfrance', \"Gavin O'Connor\", 'Gary Ross',\n",
       "       'Terrence Malick', 'Robert Zemeckis', 'Darren Aronofsky',\n",
       "       'James Mangold', 'Daniel Espinosa', 'Walter Salles',\n",
       "       'Angelina Jolie Pitt', 'Seth MacFarlane', 'Anthony Russo',\n",
       "       'Rob Marshall', 'Adam Shankman', 'Sadyk Sher-Niyaz', 'Tony Gilroy',\n",
       "       'Steve McQueen', 'Richard J. Lewis', 'Paul Greengrass',\n",
       "       'David Ayer', 'Clint Eastwood'], dtype=object)"
      ]
     },
     "execution_count": 10,
     "metadata": {},
     "output_type": "execute_result"
    }
   ],
   "source": [
    "df['director_name'].unique()"
   ]
  },
  {
   "cell_type": "code",
   "execution_count": 11,
   "id": "97620d0a",
   "metadata": {},
   "outputs": [],
   "source": [
    "df['director_name'] = np.where(df['director_name']=='N/A','', df['director_name'])\n",
    "df['director_name'] = np.where(df['director_name']=='Nan','', df['director_name'])\n",
    "df['director_name'] = np.where(df['director_name']=='Null','', df['director_name'])"
   ]
  },
  {
   "cell_type": "code",
   "execution_count": 12,
   "id": "77354898",
   "metadata": {},
   "outputs": [
    {
     "data": {
      "text/plain": [
       "array([240, 195, 187, 186, 183, -50, 180, 173, 172, 158, 170, 169, 167,\n",
       "       165, 580, 164, 157, 156, 154, 153, 151, 150, 650, 149, 148, 147,\n",
       "       146, 144, 143, 142, 141, 140, 139, 138, 137, 136, 135, 134,   5],\n",
       "      dtype=int64)"
      ]
     },
     "execution_count": 12,
     "metadata": {},
     "output_type": "execute_result"
    }
   ],
   "source": [
    "df['duration'].unique()"
   ]
  },
  {
   "cell_type": "code",
   "execution_count": 15,
   "id": "447b7b2e",
   "metadata": {},
   "outputs": [
    {
     "data": {
      "text/plain": [
       "{'whiskers': [<matplotlib.lines.Line2D at 0x21c7ce2c450>,\n",
       "  <matplotlib.lines.Line2D at 0x21c7ce2ce50>],\n",
       " 'caps': [<matplotlib.lines.Line2D at 0x21c7ce2d790>,\n",
       "  <matplotlib.lines.Line2D at 0x21c7ce2df90>],\n",
       " 'boxes': [<matplotlib.lines.Line2D at 0x21c7cde5e50>],\n",
       " 'medians': [<matplotlib.lines.Line2D at 0x21c7ce2e7d0>],\n",
       " 'fliers': [<matplotlib.lines.Line2D at 0x21c7ccd7010>],\n",
       " 'means': []}"
      ]
     },
     "execution_count": 15,
     "metadata": {},
     "output_type": "execute_result"
    },
    {
     "data": {
      "image/png": "[encoded data removed]",
      "text/plain": [
       "<Figure size 640x480 with 1 Axes>"
      ]
     },
     "metadata": {},
     "output_type": "display_data"
    }
   ],
   "source": [
    "plt.boxplot(df['duration'])"
   ]
  },
  {
   "cell_type": "code",
   "execution_count": 16,
   "id": "c98ea527",
   "metadata": {},
   "outputs": [
    {
     "data": {
      "text/plain": [
       "array([1.16866727e+08, 4.08992272e+08, 5.41161910e+07, 4.64950000e+04,\n",
       "       2.58355354e+08, 3.30249062e+08, 3.03001229e+08,            nan,\n",
       "       6.23279547e+08, 2.70985800e+07, 1.02515793e+08, 5.96961760e+07,\n",
       "       1.87991439e+08, 1.61029270e+08, 2.53592000e+07, 1.62804648e+08,\n",
       "       2.45428137e+08, 4.48130642e+08, 2.55108370e+08, 1.48775460e+08,\n",
       "       9.57207160e+07, 1.05219735e+08, 1.83635922e+08, 3.52358779e+08,\n",
       "       6.09628780e+07, 2.62030663e+08, 2.28430993e+08, 6.50070450e+07,\n",
       "       1.82204440e+08, 3.95850000e+06, 8.92899100e+07, 1.67735396e+08,\n",
       "       2.33914986e+08, 2.92568851e+08, 8.09331800e+06, 2.00074175e+08,\n",
       "       4.07197282e+08, 9.53289370e+07, 1.69705587e+08, 4.24645577e+08,\n",
       "       7.98833590e+07, 5.28224180e+07, 4.12290000e+04, 1.63772740e+07,\n",
       "       1.54985087e+08, 2.17531200e+06, 2.91021565e+08, 3.04360277e+08,\n",
       "       1.44812796e+08, 7.23060650e+07, 2.02853933e+08, 4.07999255e+08,\n",
       "       4.58991599e+08, 8.32474800e+06, 4.73075500e+07, 4.71050850e+07,\n",
       "       8.05740100e+07, 3.50034110e+08, 2.13832980e+07, 1.36516620e+07,\n",
       "       1.50832203e+08, 2.03899670e+07, 3.05139400e+07, 1.33033190e+07,\n",
       "       1.50117807e+08, 9.37492030e+07, 1.01160529e+08, 1.27968405e+08,\n",
       "       1.69693900e+07, 1.32550960e+08, 1.20613500e+06, 3.73049500e+07,\n",
       "       7.17753000e+05, 2.81666058e+08, 1.15603980e+08, 4.26156850e+07,\n",
       "       2.59746958e+08, 2.41063875e+08, 3.85093420e+07, 5.24746160e+07,\n",
       "       1.13165635e+08, 5.66678700e+07, 7.50140400e+06, 1.07100855e+08,\n",
       "       8.57071160e+07, 4.70342720e+07])"
      ]
     },
     "execution_count": 16,
     "metadata": {},
     "output_type": "execute_result"
    }
   ],
   "source": [
    "df['gross'].unique()"
   ]
  },
  {
   "cell_type": "code",
   "execution_count": 17,
   "id": "f8759a1f",
   "metadata": {},
   "outputs": [
    {
     "data": {
      "text/plain": [
       "0     116866727.0\n",
       "1     408992272.0\n",
       "2      54116191.0\n",
       "3         46495.0\n",
       "4     258355354.0\n",
       "5     330249062.0\n",
       "6     303001229.0\n",
       "7             NaN\n",
       "8     623279547.0\n",
       "9     623279547.0\n",
       "10     27098580.0\n",
       "11    102515793.0\n",
       "12     59696176.0\n",
       "13    187991439.0\n",
       "14    161029270.0\n",
       "15     25359200.0\n",
       "16    162804648.0\n",
       "17    245428137.0\n",
       "18    448130642.0\n",
       "19    255108370.0\n",
       "20    148775460.0\n",
       "21    148775460.0\n",
       "22     95720716.0\n",
       "23    105219735.0\n",
       "24    183635922.0\n",
       "25    352358779.0\n",
       "26     60962878.0\n",
       "27            NaN\n",
       "28    262030663.0\n",
       "29    228430993.0\n",
       "30     65007045.0\n",
       "31     65007045.0\n",
       "32    182204440.0\n",
       "33      3958500.0\n",
       "34     89289910.0\n",
       "35    167735396.0\n",
       "36    233914986.0\n",
       "37            NaN\n",
       "38    292568851.0\n",
       "39      8093318.0\n",
       "40    200074175.0\n",
       "41    407197282.0\n",
       "42     95328937.0\n",
       "43    169705587.0\n",
       "44    424645577.0\n",
       "45     79883359.0\n",
       "46     52822418.0\n",
       "47        41229.0\n",
       "48     16377274.0\n",
       "49    154985087.0\n",
       "50      2175312.0\n",
       "51    291021565.0\n",
       "52    304360277.0\n",
       "53    304360277.0\n",
       "54    144812796.0\n",
       "55    144812796.0\n",
       "56            NaN\n",
       "57     72306065.0\n",
       "58    202853933.0\n",
       "59    407999255.0\n",
       "60    458991599.0\n",
       "61            NaN\n",
       "62            NaN\n",
       "63            NaN\n",
       "64      8324748.0\n",
       "65     47307550.0\n",
       "66     47105085.0\n",
       "67     80574010.0\n",
       "68    350034110.0\n",
       "69     21383298.0\n",
       "70     13651662.0\n",
       "71    150832203.0\n",
       "72     20389967.0\n",
       "73     30513940.0\n",
       "74     13303319.0\n",
       "75    150117807.0\n",
       "76     93749203.0\n",
       "77    101160529.0\n",
       "78    127968405.0\n",
       "79     16969390.0\n",
       "80    132550960.0\n",
       "81      1206135.0\n",
       "82     37304950.0\n",
       "83       717753.0\n",
       "84    281666058.0\n",
       "85    115603980.0\n",
       "86    115603980.0\n",
       "87     42615685.0\n",
       "88    259746958.0\n",
       "89    241063875.0\n",
       "90     38509342.0\n",
       "91     52474616.0\n",
       "92            NaN\n",
       "93    113165635.0\n",
       "94     56667870.0\n",
       "95      7501404.0\n",
       "96    107100855.0\n",
       "97     85707116.0\n",
       "98     47034272.0\n",
       "Name: gross, dtype: float64"
      ]
     },
     "execution_count": 17,
     "metadata": {},
     "output_type": "execute_result"
    }
   ],
   "source": [
    "pd.set_option('display.max_rows', None)\n",
    "df['gross']"
   ]
  },
  {
   "cell_type": "code",
   "execution_count": 18,
   "id": "1d7c02ad",
   "metadata": {},
   "outputs": [],
   "source": [
    "df['gross'].fillna(0, inplace=True)"
   ]
  },
  {
   "cell_type": "code",
   "execution_count": 19,
   "id": "557d1c70",
   "metadata": {},
   "outputs": [
    {
     "data": {
      "text/plain": [
       "array(['Biography|Comedy|Crime|Drama', 'Action|Adventure|Sci-Fi',\n",
       "       'Crime|Drama|Mystery|Thriller|Western', 'Drama',\n",
       "       'Adventure|Fantasy', 'Drama|Romance', 'Drama|Sci-Fi',\n",
       "       'Crime|Drama|Mystery|Thriller', nan, 'Adventure|Drama|Sci-Fi',\n",
       "       'Biography|Crime|Drama|History|Music', 'Drama|Western',\n",
       "       'Action|Thriller', 'Drama|Musical|Romance',\n",
       "       'Drama|History|Thriller', 'Action|Adventure|Drama|History',\n",
       "       'Adventure|Drama|Thriller|Western', 'Biography|Drama|History',\n",
       "       'Action|Adventure|Fantasy', 'Action|Adventure|Drama',\n",
       "       'Biography|Drama|History|War', 'Action|Adventure|Western',\n",
       "       'Action|Adventure|Fantasy|Sci-Fi|Thriller',\n",
       "       'Action|Animation|Crime|Sci-Fi|Thriller',\n",
       "       'Action|Adventure|Sci-Fi|Thriller',\n",
       "       'Comedy|Crime|Drama|Mystery|Romance', 'Action|Adventure|Thriller',\n",
       "       'Comedy|Drama|Romance', 'Adventure|Sci-Fi|Thriller', 'Drama|War',\n",
       "       'Action|Drama|Thriller|War', 'Crime|Drama|Thriller', 'Comedy',\n",
       "       'Action|Adventure|Fantasy|Sci-Fi', 'Drama|Horror|Thriller',\n",
       "       'Adventure|Drama|Sci-Fi|Thriller', 'Adventure|Drama|History',\n",
       "       'Crime|Drama', 'Action|Crime|Thriller', 'Drama|Sport',\n",
       "       'Adventure|Mystery|Sci-Fi', 'Action|Biography|Drama|History|War',\n",
       "       'Biography|Drama|Music', 'Drama|Fantasy', 'Drama|Thriller',\n",
       "       'Mystery|Thriller', 'Biography|Crime|Drama', 'Adventure|Drama',\n",
       "       'Adventure|Sci-Fi', 'Biography|Drama|Sport|War', 'Comedy|Western',\n",
       "       'Comedy|Drama|Musical|Romance', 'Action|Biography|Drama|History',\n",
       "       'Comedy|Drama', 'Biography|Drama|Thriller', 'Action|Drama|War',\n",
       "       'Biography|Drama|Music|Musical'], dtype=object)"
      ]
     },
     "execution_count": 19,
     "metadata": {},
     "output_type": "execute_result"
    }
   ],
   "source": [
    "df['genres'].unique()"
   ]
  },
  {
   "cell_type": "code",
   "execution_count": 20,
   "id": "2e79d612",
   "metadata": {},
   "outputs": [
    {
     "data": {
      "text/plain": [
       "array([2013, 2015, 2011,  202, 2012, 2014, 2010, 2016,  205], dtype=int64)"
      ]
     },
     "execution_count": 20,
     "metadata": {},
     "output_type": "execute_result"
    }
   ],
   "source": [
    "df['title_year'].unique()"
   ]
  },
  {
   "cell_type": "code",
   "execution_count": 21,
   "id": "c425c501",
   "metadata": {},
   "outputs": [
    {
     "data": {
      "text/plain": [
       "(0.0, 3000.0)"
      ]
     },
     "execution_count": 21,
     "metadata": {},
     "output_type": "execute_result"
    },
    {
     "data": {
      "image/png": "[encoded data removed]",
      "text/plain": [
       "<Figure size 640x480 with 1 Axes>"
      ]
     },
     "metadata": {},
     "output_type": "display_data"
    }
   ],
   "source": [
    "plt.boxplot(df[\"title_year\"])\n",
    "plt.ylim([0,3000])"
   ]
  },
  {
   "cell_type": "code",
   "execution_count": 22,
   "id": "187fd7b3",
   "metadata": {},
   "outputs": [],
   "source": [
    "df['title_year'] = np.where(df['title_year']==\"202\",\"2002\", df['title_year'])\n",
    "df['title_year'] = np.where(df['title_year']==\"205\",\"2005\", df['title_year'])"
   ]
  },
  {
   "cell_type": "code",
   "execution_count": 23,
   "id": "a7ca6e95",
   "metadata": {},
   "outputs": [
    {
     "data": {
      "text/plain": [
       "array(['USA', 'usa', 'UK', 'Germany', 'New Zealand', 'India',\n",
       "       'United States', 'France', 'Australia', 'Czech Republic',\n",
       "       'Kyrgyzstan', 'Canada'], dtype=object)"
      ]
     },
     "execution_count": 23,
     "metadata": {},
     "output_type": "execute_result"
    }
   ],
   "source": [
    "df['country'].unique()"
   ]
  },
  {
   "cell_type": "code",
   "execution_count": 24,
   "id": "dee3586a",
   "metadata": {},
   "outputs": [],
   "source": [
    "df['country'] = df['country'].str.upper()\n",
    "df['country'] = np.where(df['country']=='UNITED STATES','USA', df['country'])"
   ]
  },
  {
   "cell_type": "code",
   "execution_count": 25,
   "id": "5146bc1c",
   "metadata": {},
   "outputs": [
    {
     "data": {
      "text/plain": [
       "array(['USA', 'UK', 'GERMANY', 'NEW ZEALAND', 'INDIA', 'FRANCE',\n",
       "       'AUSTRALIA', 'CZECH REPUBLIC', 'KYRGYZSTAN', 'CANADA'],\n",
       "      dtype=object)"
      ]
     },
     "execution_count": 25,
     "metadata": {},
     "output_type": "execute_result"
    }
   ],
   "source": [
    "df['country'].unique()"
   ]
  },
  {
   "cell_type": "code",
   "execution_count": 26,
   "id": "14ece683",
   "metadata": {},
   "outputs": [
    {
     "data": {
      "text/plain": [
       "array([1.000e+08, 2.000e+08, 4.400e+07, 1.400e+07, 2.250e+08, 2.500e+08,\n",
       "       1.800e+08,       nan, 2.200e+08, 1.020e+08, 9.000e+07, 2.200e+07,\n",
       "       1.650e+08, 2.800e+07, 4.000e+06, 2.100e+08, 6.100e+07, 4.000e+07,\n",
       "       1.350e+08, 1.950e+08, 4.600e+07, 2.300e+08, 1.080e+08, 1.400e+08,\n",
       "       6.500e+07, 2.150e+08, 3.500e+06, 1.600e+08, 2.000e+07, 2.450e+08,\n",
       "       2.500e+07, 1.300e+08, 6.600e+07, 5.000e+07, 2.550e+07, 3.200e+07,\n",
       "       1.780e+08, 1.050e+08, 1.735e+04, 7.800e+07, 3.500e+07, 4.500e+07,\n",
       "       6.000e+07, 1.900e+08, 1.500e+07, 8.500e+07, 3.000e+07, 3.100e+07,\n",
       "       1.250e+08, 8.000e+07, 1.200e+08, 1.700e+08, 7.500e+07, 7.000e+07,\n",
       "       1.400e+06, 5.500e+07, 6.800e+07])"
      ]
     },
     "execution_count": 26,
     "metadata": {},
     "output_type": "execute_result"
    }
   ],
   "source": [
    "df['budget'].unique()"
   ]
  },
  {
   "cell_type": "code",
   "execution_count": 27,
   "id": "5dad8bd1",
   "metadata": {},
   "outputs": [],
   "source": [
    "df['budget'].fillna(0, inplace=True)"
   ]
  },
  {
   "cell_type": "code",
   "execution_count": 28,
   "id": "eb1f03a5",
   "metadata": {},
   "outputs": [
    {
     "data": {
      "text/plain": [
       "array([ 8.2,  7.2,  7.9,  6.5,  6.9,  8.1, -7.5,  7.8,  5.6,  8.6,  8. ,\n",
       "        8.5,  5.7,  7.5,  7.6,  7.4,  6.7,  6.3,  7. ,  6.1,  6.8,  8.4,\n",
       "        8.8,  4.3,  7.1,  7.3,  3. ,  6. ,  5.8,  5.3,  6.4,  6.6, -1.2,\n",
       "        5.9,  8.7])"
      ]
     },
     "execution_count": 28,
     "metadata": {},
     "output_type": "execute_result"
    }
   ],
   "source": [
    "df['imdb_score'].unique()"
   ]
  },
  {
   "cell_type": "code",
   "execution_count": 29,
   "id": "0dec6abe",
   "metadata": {},
   "outputs": [
    {
     "data": {
      "text/plain": [
       "(-10.0, 10.0)"
      ]
     },
     "execution_count": 29,
     "metadata": {},
     "output_type": "execute_result"
    },
    {
     "data": {
      "image/png": "[encoded data removed]",
      "text/plain": [
       "<Figure size 640x480 with 1 Axes>"
      ]
     },
     "metadata": {},
     "output_type": "display_data"
    }
   ],
   "source": [
    "plt.boxplot(df[\"imdb_score\"])\n",
    "plt.ylim([-10,10])"
   ]
  },
  {
   "cell_type": "code",
   "execution_count": 34,
   "id": "76676ce7",
   "metadata": {},
   "outputs": [],
   "source": [
    "df['imdb_score'] = np.where(df['imdb_score']=='-7.5','7.5', df['imdb_score'])\n",
    "df['imdb_score'] = np.where(df['imdb_score']=='-1.2','1.2', df['imdb_score'])"
   ]
  },
  {
   "cell_type": "code",
   "execution_count": 35,
   "id": "ec8302c0",
   "metadata": {},
   "outputs": [
    {
     "data": {
      "text/plain": [
       "array(['8.2', '7.2', '7.9', '6.5', '6.9', '8.1', '7.5', '7.8', '5.6',\n",
       "       '8.6', '8.0', '8.5', '5.7', '7.6', '7.4', '6.7', '6.3', '7.0',\n",
       "       '6.1', '6.8', '8.4', '8.8', '4.3', '7.1', '7.3', '3.0', '6.0',\n",
       "       '5.8', '5.3', '6.4', '6.6', '1.2', '5.9', '8.7'], dtype=object)"
      ]
     },
     "execution_count": 35,
     "metadata": {},
     "output_type": "execute_result"
    }
   ],
   "source": [
    "#Outliers pada imdb_score setelah dihilangkan tanda (\"-\")\n",
    "df['imdb_score'].unique()"
   ]
  },
  {
   "cell_type": "code",
   "execution_count": 32,
   "id": "7073bf90",
   "metadata": {},
   "outputs": [
    {
     "data": {
      "text/plain": [
       "0     116866727.0\n",
       "1     408992272.0\n",
       "2      54116191.0\n",
       "3         46495.0\n",
       "4     258355354.0\n",
       "5     330249062.0\n",
       "6     303001229.0\n",
       "7             0.0\n",
       "8     623279547.0\n",
       "9     623279547.0\n",
       "10     27098580.0\n",
       "11    102515793.0\n",
       "12     59696176.0\n",
       "13    187991439.0\n",
       "14    161029270.0\n",
       "15     25359200.0\n",
       "16    162804648.0\n",
       "17    245428137.0\n",
       "18    448130642.0\n",
       "19    255108370.0\n",
       "20    148775460.0\n",
       "21    148775460.0\n",
       "22     95720716.0\n",
       "23    105219735.0\n",
       "24    183635922.0\n",
       "25    352358779.0\n",
       "26     60962878.0\n",
       "27            0.0\n",
       "28    262030663.0\n",
       "29    228430993.0\n",
       "30     65007045.0\n",
       "31     65007045.0\n",
       "32    182204440.0\n",
       "33      3958500.0\n",
       "34     89289910.0\n",
       "35    167735396.0\n",
       "36    233914986.0\n",
       "37            0.0\n",
       "38    292568851.0\n",
       "39      8093318.0\n",
       "40    200074175.0\n",
       "41    407197282.0\n",
       "42     95328937.0\n",
       "43    169705587.0\n",
       "44    424645577.0\n",
       "45     79883359.0\n",
       "46     52822418.0\n",
       "47        41229.0\n",
       "48     16377274.0\n",
       "49    154985087.0\n",
       "50      2175312.0\n",
       "51    291021565.0\n",
       "52    304360277.0\n",
       "53    304360277.0\n",
       "54    144812796.0\n",
       "55    144812796.0\n",
       "56            0.0\n",
       "57     72306065.0\n",
       "58    202853933.0\n",
       "59    407999255.0\n",
       "60    458991599.0\n",
       "61            0.0\n",
       "62            0.0\n",
       "63            0.0\n",
       "64      8324748.0\n",
       "65     47307550.0\n",
       "66     47105085.0\n",
       "67     80574010.0\n",
       "68    350034110.0\n",
       "69     21383298.0\n",
       "70     13651662.0\n",
       "71    150832203.0\n",
       "72     20389967.0\n",
       "73     30513940.0\n",
       "74     13303319.0\n",
       "75    150117807.0\n",
       "76     93749203.0\n",
       "77    101160529.0\n",
       "78    127968405.0\n",
       "79     16969390.0\n",
       "80    132550960.0\n",
       "81      1206135.0\n",
       "82     37304950.0\n",
       "83       717753.0\n",
       "84    281666058.0\n",
       "85    115603980.0\n",
       "86    115603980.0\n",
       "87     42615685.0\n",
       "88    259746958.0\n",
       "89    241063875.0\n",
       "90     38509342.0\n",
       "91     52474616.0\n",
       "92            0.0\n",
       "93    113165635.0\n",
       "94     56667870.0\n",
       "95      7501404.0\n",
       "96    107100855.0\n",
       "97     85707116.0\n",
       "98     47034272.0\n",
       "Name: gross, dtype: float64"
      ]
     },
     "execution_count": 32,
     "metadata": {},
     "output_type": "execute_result"
    }
   ],
   "source": [
    "#Missing values gross diganti dengan 0\n",
    "pd.set_option('display.max_rows', None)\n",
    "df['gross']"
   ]
  },
  {
   "cell_type": "code",
   "execution_count": 36,
   "id": "2dc34088",
   "metadata": {},
   "outputs": [],
   "source": [
    "df['genres'].fillna('General', inplace=True)"
   ]
  },
  {
   "cell_type": "code",
   "execution_count": 37,
   "id": "2f35dfb9",
   "metadata": {},
   "outputs": [
    {
     "data": {
      "text/plain": [
       "array(['Biography|Comedy|Crime|Drama', 'Action|Adventure|Sci-Fi',\n",
       "       'Crime|Drama|Mystery|Thriller|Western', 'Drama',\n",
       "       'Adventure|Fantasy', 'Drama|Romance', 'Drama|Sci-Fi',\n",
       "       'Crime|Drama|Mystery|Thriller', 'General',\n",
       "       'Adventure|Drama|Sci-Fi', 'Biography|Crime|Drama|History|Music',\n",
       "       'Drama|Western', 'Action|Thriller', 'Drama|Musical|Romance',\n",
       "       'Drama|History|Thriller', 'Action|Adventure|Drama|History',\n",
       "       'Adventure|Drama|Thriller|Western', 'Biography|Drama|History',\n",
       "       'Action|Adventure|Fantasy', 'Action|Adventure|Drama',\n",
       "       'Biography|Drama|History|War', 'Action|Adventure|Western',\n",
       "       'Action|Adventure|Fantasy|Sci-Fi|Thriller',\n",
       "       'Action|Animation|Crime|Sci-Fi|Thriller',\n",
       "       'Action|Adventure|Sci-Fi|Thriller',\n",
       "       'Comedy|Crime|Drama|Mystery|Romance', 'Action|Adventure|Thriller',\n",
       "       'Comedy|Drama|Romance', 'Adventure|Sci-Fi|Thriller', 'Drama|War',\n",
       "       'Action|Drama|Thriller|War', 'Crime|Drama|Thriller', 'Comedy',\n",
       "       'Action|Adventure|Fantasy|Sci-Fi', 'Drama|Horror|Thriller',\n",
       "       'Adventure|Drama|Sci-Fi|Thriller', 'Adventure|Drama|History',\n",
       "       'Crime|Drama', 'Action|Crime|Thriller', 'Drama|Sport',\n",
       "       'Adventure|Mystery|Sci-Fi', 'Action|Biography|Drama|History|War',\n",
       "       'Biography|Drama|Music', 'Drama|Fantasy', 'Drama|Thriller',\n",
       "       'Mystery|Thriller', 'Biography|Crime|Drama', 'Adventure|Drama',\n",
       "       'Adventure|Sci-Fi', 'Biography|Drama|Sport|War', 'Comedy|Western',\n",
       "       'Comedy|Drama|Musical|Romance', 'Action|Biography|Drama|History',\n",
       "       'Comedy|Drama', 'Biography|Drama|Thriller', 'Action|Drama|War',\n",
       "       'Biography|Drama|Music|Musical'], dtype=object)"
      ]
     },
     "execution_count": 37,
     "metadata": {},
     "output_type": "execute_result"
    }
   ],
   "source": [
    "df['genres'].unique()"
   ]
  },
  {
   "cell_type": "code",
   "execution_count": null,
   "id": "dd3e250c",
   "metadata": {},
   "outputs": [],
   "source": []
  },
  {
   "cell_type": "code",
   "execution_count": null,
   "id": "2cb69f3f",
   "metadata": {},
   "outputs": [],
   "source": []
  }
 ],
 "metadata": {
  "kernelspec": {
   "display_name": "Python 3 (ipykernel)",
   "language": "python",
   "name": "python3"
  },
  "language_info": {
   "codemirror_mode": {
    "name": "ipython",
    "version": 3
   },
   "file_extension": ".py",
   "mimetype": "text/x-python",
   "name": "python",
   "nbconvert_exporter": "python",
   "pygments_lexer": "ipython3",
   "version": "3.11.2"
  }
 },
 "nbformat": 4,
 "nbformat_minor": 5
}
